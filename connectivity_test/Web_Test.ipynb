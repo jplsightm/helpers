{
 "cells": [
  {
   "cell_type": "markdown",
   "metadata": {},
   "source": [
    "## This is a notebook designed test outbound connectivity from a Sight Machine Sentinel"
   ]
  },
  {
   "cell_type": "code",
   "execution_count": null,
   "metadata": {
    "collapsed": true
   },
   "outputs": [],
   "source": [
    "import urllib2\n",
    "import os"
   ]
  },
  {
   "cell_type": "code",
   "execution_count": null,
   "metadata": {
    "collapsed": true
   },
   "outputs": [],
   "source": [
    "def check_proxy():\n",
    "    http_status = False\n",
    "    https_status = False\n",
    "    try:\n",
    "        print os.environ['http_proxy']\n",
    "        http_status = True\n",
    "    except KeyError:\n",
    "        print 'http_proxy is not set or accessable by python'\n",
    "    try:\n",
    "        print os.environ['https_proxy']\n",
    "        https_status = True\n",
    "    except KeyError:\n",
    "        print 'https_proxy is not set or accessable by python'\n",
    "    return {'http': http_status, 'https': https_status}"
   ]
  },
  {
   "cell_type": "code",
   "execution_count": null,
   "metadata": {
    "collapsed": true
   },
   "outputs": [],
   "source": [
    "def web_test(url, proxy = False):\n",
    "    \n",
    "    # http://stackoverflow.com/questions/1450132/proxy-with-urllib2\n",
    "    if proxy:\n",
    "        proxy = urllib2.ProxyHandler({\n",
    "        'http': proxy,\n",
    "        'https': proxy\n",
    "        })\n",
    "        opener = urllib2.build_opener(proxy)\n",
    "        urllib2.install_opener(opener)\n",
    "        print 'proxy set to {}'.format(proxy)\n",
    "        \n",
    "    resp = urllib2.urlopen(url)\n",
    "    page = resp.read()\n",
    "    code = resp.code\n",
    "    return {'code': code, 'page': page}"
   ]
  },
  {
   "cell_type": "code",
   "execution_count": null,
   "metadata": {
    "collapsed": false
   },
   "outputs": [],
   "source": [
    "check_proxy()"
   ]
  },
  {
   "cell_type": "code",
   "execution_count": null,
   "metadata": {
    "collapsed": false
   },
   "outputs": [],
   "source": [
    "print 'https test', web_test('https://demo.sightmachine.com/')['code']\n",
    "print 'http test', web_test('https://demo.sightmachine.com/')['code']\n",
    "print 'git hub test', web_test('https://github.com/sightmachine/SimpleCV.git')['code']\n",
    "print 'pypi test', web_test('http://pypi.python.org')['code']"
   ]
  },
  {
   "cell_type": "code",
   "execution_count": null,
   "metadata": {
    "collapsed": true
   },
   "outputs": [],
   "source": []
  }
 ],
 "metadata": {
  "kernelspec": {
   "display_name": "Python 2",
   "language": "python",
   "name": "python2"
  },
  "language_info": {
   "codemirror_mode": {
    "name": "ipython",
    "version": 2
   },
   "file_extension": ".py",
   "mimetype": "text/x-python",
   "name": "python",
   "nbconvert_exporter": "python",
   "pygments_lexer": "ipython2",
   "version": "2.7.6"
  }
 },
 "nbformat": 4,
 "nbformat_minor": 0
}
